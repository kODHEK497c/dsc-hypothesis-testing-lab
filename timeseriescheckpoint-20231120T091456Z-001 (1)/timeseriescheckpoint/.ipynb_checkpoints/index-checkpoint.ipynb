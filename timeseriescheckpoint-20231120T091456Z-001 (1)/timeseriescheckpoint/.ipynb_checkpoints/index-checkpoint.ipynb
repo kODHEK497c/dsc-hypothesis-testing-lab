{
 "cells": [
  {
   "cell_type": "markdown",
   "id": "9a61faf1",
   "metadata": {
    "deletable": false,
    "editable": false,
    "nbgrader": {
     "cell_type": "markdown",
     "checksum": "0a454b14db6e7e569aefbbd61c76bd7f",
     "grade": false,
     "grade_id": "cell-e09d1d1727c07a79",
     "locked": true,
     "schema_version": 3,
     "solution": false,
     "task": false
    }
   },
   "source": [
    "# Time Series Checkpoint\n",
    "\n",
    "This checkpoint is designed to test your knowledge of time series analysis and modeling.\n",
    "\n",
    "Specifically, this will cover:\n",
    "\n",
    "* Using `pandas` to manipulate time series data\n",
    "* Plotting time series data\n",
    "* Modeling time series data with an ARMA model"
   ]
  },
  {
   "cell_type": "markdown",
   "id": "1ac01063",
   "metadata": {
    "deletable": false,
    "editable": false,
    "nbgrader": {
     "cell_type": "markdown",
     "checksum": "e177d85d260fdfb868da362bd0de9773",
     "grade": false,
     "grade_id": "cell-5c2150a70b218a3d",
     "locked": true,
     "schema_version": 3,
     "solution": false,
     "task": false
    }
   },
   "source": [
    "## Data Understanding\n",
    "\n",
    "The following dataset comes from the [UCI Machine Learning Repository](https://archive.ics.uci.edu/ml/datasets/Appliances+energy+prediction). It includes energy usage data as well as temperature and humidity data.\n",
    "\n",
    "The relevant columns for your analysis will be:\n",
    "\n",
    "* `date`: A string representing the timestamp of measurements taken every 10 minutes\n",
    "* `lights`: An integer representing energy use of light fixtures in the house in Wh"
   ]
  },
  {
   "cell_type": "code",
   "execution_count": null,
   "id": "edda2702",
   "metadata": {
    "deletable": false,
    "editable": false,
    "nbgrader": {
     "cell_type": "code",
     "checksum": "3d2e21c0bad7d5b69ece150ddb3d3f2c",
     "grade": false,
     "grade_id": "cell-d4591cce74003c68",
     "locked": true,
     "schema_version": 3,
     "solution": false,
     "task": false
    }
   },
   "outputs": [],
   "source": [
    "# Run this cell without changes\n",
    "import pandas as pd\n",
    "\n",
    "df = pd.read_csv(\"energy_data.csv\")\n",
    "df"
   ]
  },
  {
   "cell_type": "markdown",
   "id": "b4d25a44",
   "metadata": {
    "deletable": false,
    "editable": false,
    "nbgrader": {
     "cell_type": "markdown",
     "checksum": "be193d52afd64735458275c1b659c23d",
     "grade": false,
     "grade_id": "cell-f15e3609da54dd7f",
     "locked": true,
     "schema_version": 3,
     "solution": false,
     "task": false
    }
   },
   "source": [
    "## 1. Create a `Series` Object for Analysis\n",
    "\n",
    "As noted previously, we do not need all of the columns of `df`. Create a `pandas` `Series` object called `light_ts` which has an index of type `DatetimeIndex` generated based on the `date` column of `df` and data from the values of the `lights` column of `df`.\n",
    "\n",
    "***Hint:*** The `pd.to_datetime` function ([documentation here](https://pandas.pydata.org/pandas-docs/stable/reference/api/pandas.to_datetime.html)) can convert strings representing dates into datetimes"
   ]
  },
  {
   "cell_type": "code",
   "execution_count": null,
   "id": "fad90742",
   "metadata": {
    "deletable": false,
    "nbgrader": {
     "cell_type": "code",
     "checksum": "cd3936b1edced362741d6989a116c8ca",
     "grade": false,
     "grade_id": "cell-8c1bb3cb584db471",
     "locked": false,
     "schema_version": 3,
     "solution": true,
     "task": false
    }
   },
   "outputs": [],
   "source": [
    "# Replace None with appropriate code\n",
    "light_ts = None\n",
    "# YOUR CODE HERE\n",
    "raise NotImplementedError()\n",
    "light_ts"
   ]
  },
  {
   "cell_type": "code",
   "execution_count": null,
   "id": "6d2ef2d5",
   "metadata": {
    "deletable": false,
    "editable": false,
    "nbgrader": {
     "cell_type": "code",
     "checksum": "3205427be9fd0de0a8f5d8b685d323c4",
     "grade": true,
     "grade_id": "cell-0c606d5f65b3e662",
     "locked": true,
     "points": 1,
     "schema_version": 3,
     "solution": false,
     "task": false
    }
   },
   "outputs": [],
   "source": [
    "# light_ts should be a Series\n",
    "assert type(light_ts) == pd.Series\n",
    "\n",
    "# light_ts should have the same number of records as df\n",
    "assert light_ts.shape[0] == df.shape[0]\n",
    "\n",
    "# The index of light_ts should be composed of datetimes\n",
    "assert type(light_ts.index) == pd.DatetimeIndex\n",
    "\n",
    "# PUT ALL WORK FOR THE ABOVE QUESTION ABOVE THIS CELL\n",
    "# THIS UNALTERABLE CELL CONTAINS HIDDEN TESTS"
   ]
  },
  {
   "cell_type": "markdown",
   "id": "8327eb88",
   "metadata": {
    "deletable": false,
    "editable": false,
    "nbgrader": {
     "cell_type": "markdown",
     "checksum": "38ef80171a6e7c8c3941935f19a9c0a1",
     "grade": false,
     "grade_id": "cell-e51b79c8888e7cd7",
     "locked": true,
     "schema_version": 3,
     "solution": false,
     "task": false
    }
   },
   "source": [
    "## 2. Downsample Time Series Data to Find a Daily Total\n",
    "\n",
    "Currently this dataset has recorded the amount of energy used every hour. We want to analyze the amount of energy used every day.\n",
    "\n",
    "Create a `Series` called `daily_ts` which contains the data from `light_ts` downsampled using the frequency string for 1 **day**, then aggregated using the **sum** of daily energy use by the lights.\n",
    "\n",
    "***Hint:*** Here is some relevant documentation:\n",
    "\n",
    "* See [this page](https://pandas.pydata.org/pandas-docs/stable/reference/api/pandas.Series.resample.html#pandas.Series.resample) for information on the method used for upsampling and downsampling\n",
    "* See [this page](https://pandas.pydata.org/pandas-docs/stable/user_guide/timeseries.html#dateoffset-objects) for the available frequency strings\n",
    "* See [this page](https://pandas.pydata.org/docs/reference/resampling.html#computations-descriptive-stats) for the available aggregate functions to use after resampling"
   ]
  },
  {
   "cell_type": "code",
   "execution_count": null,
   "id": "bef646fc",
   "metadata": {
    "deletable": false,
    "nbgrader": {
     "cell_type": "code",
     "checksum": "e93c70fdeade3d7520ed54f5df71d62f",
     "grade": false,
     "grade_id": "cell-eece984f0b632f01",
     "locked": false,
     "schema_version": 3,
     "solution": true,
     "task": false
    }
   },
   "outputs": [],
   "source": [
    "# Replace None with appropriate code\n",
    "daily_ts = None\n",
    "# YOUR CODE HERE\n",
    "raise NotImplementedError()\n",
    "daily_ts"
   ]
  },
  {
   "cell_type": "code",
   "execution_count": null,
   "id": "9f53e4da",
   "metadata": {
    "deletable": false,
    "editable": false,
    "nbgrader": {
     "cell_type": "code",
     "checksum": "bfae7372c70e1629eb4596f0b07e6f79",
     "grade": true,
     "grade_id": "cell-60e6e7052d9e4fc2",
     "locked": true,
     "points": 1,
     "schema_version": 3,
     "solution": false,
     "task": false
    }
   },
   "outputs": [],
   "source": [
    "# daily_ts should be a Series\n",
    "assert type(daily_ts) == pd.Series\n",
    "\n",
    "# daily_ts should have fewer records than light_ts\n",
    "assert len(daily_ts) < len(light_ts)\n",
    "\n",
    "# PUT ALL WORK FOR THE ABOVE QUESTION ABOVE THIS CELL\n",
    "# THIS UNALTERABLE CELL CONTAINS HIDDEN TESTS"
   ]
  },
  {
   "cell_type": "code",
   "execution_count": null,
   "id": "99178c9c",
   "metadata": {
    "deletable": false,
    "editable": false,
    "nbgrader": {
     "cell_type": "code",
     "checksum": "db9797e5bdbb247b8f94fa5047c11414",
     "grade": false,
     "grade_id": "cell-5875e57d44066498",
     "locked": true,
     "schema_version": 3,
     "solution": false,
     "task": false
    }
   },
   "outputs": [],
   "source": [
    "# Run this cell without changes\n",
    "daily_ts.plot(ylabel=\"Daily energy use of lights (Wh)\");"
   ]
  },
  {
   "cell_type": "markdown",
   "id": "4e9fce02",
   "metadata": {
    "deletable": false,
    "editable": false,
    "nbgrader": {
     "cell_type": "markdown",
     "checksum": "b0a6b5678d8b5e36652e4d7faf225265",
     "grade": false,
     "grade_id": "cell-1048e7555f930091",
     "locked": true,
     "schema_version": 3,
     "solution": false,
     "task": false
    }
   },
   "source": [
    "## 3. Check for Stationarity\n",
    "\n",
    "Is this `daily_ts` time series stationary? You can answer this by interpreting the graph above, or using a statistical test ([documentation here](https://www.statsmodels.org/dev/generated/statsmodels.tsa.stattools.adfuller.html)) with an alpha of 0.05. Assign your answer to `is_stationary`."
   ]
  },
  {
   "cell_type": "code",
   "execution_count": null,
   "id": "f7d453ce",
   "metadata": {
    "deletable": false,
    "nbgrader": {
     "cell_type": "code",
     "checksum": "acf707f7c827d8f030385f31406cb970",
     "grade": false,
     "grade_id": "cell-cd438a6a385d12e5",
     "locked": false,
     "schema_version": 3,
     "solution": true,
     "task": false
    }
   },
   "outputs": [],
   "source": [
    "# Replace None with appropriate code\n",
    "is_stationary = None\n",
    "# YOUR CODE HERE\n",
    "raise NotImplementedError()\n",
    "is_stationary"
   ]
  },
  {
   "cell_type": "code",
   "execution_count": null,
   "id": "ba79611f",
   "metadata": {
    "deletable": false,
    "editable": false,
    "nbgrader": {
     "cell_type": "code",
     "checksum": "1bb0083ade322cf2f22958fcd378302d",
     "grade": true,
     "grade_id": "cell-580ff4c086e19cf6",
     "locked": true,
     "points": 1,
     "schema_version": 3,
     "solution": false,
     "task": false
    }
   },
   "outputs": [],
   "source": [
    "# is_stationary should be True or False\n",
    "assert (is_stationary == True or is_stationary == False)\n",
    "\n",
    "# PUT ALL WORK FOR THE ABOVE QUESTION ABOVE THIS CELL\n",
    "# THIS UNALTERABLE CELL CONTAINS HIDDEN TESTS"
   ]
  },
  {
   "cell_type": "markdown",
   "id": "88d9a134",
   "metadata": {
    "deletable": false,
    "editable": false,
    "nbgrader": {
     "cell_type": "markdown",
     "checksum": "641095bf95d4c42bb48583e58c478bca",
     "grade": false,
     "grade_id": "cell-40927cba3193cf66",
     "locked": true,
     "schema_version": 3,
     "solution": false,
     "task": false
    }
   },
   "source": [
    "## 4. Find The Weekly Rolling Average of Time Series Data\n",
    "\n",
    "Create a `Series` called `rolling_avg_ts` that represents the **weekly (7-day)** rolling **mean** of daily energy usage.\n",
    "\n",
    "***Hint:*** See [this documentation](https://pandas.pydata.org/docs/reference/api/pandas.Series.rolling.html) for more information on calculating a rolling average.\n",
    "\n",
    "(Note that it is expected that you'll see some NaN values at the beginning, when there have been fewer than 7 days to average.)"
   ]
  },
  {
   "cell_type": "code",
   "execution_count": null,
   "id": "d1de1a59",
   "metadata": {
    "deletable": false,
    "nbgrader": {
     "cell_type": "code",
     "checksum": "d2ac6457bcff88bbf16411bd14400a61",
     "grade": false,
     "grade_id": "cell-c92808cd4096e5cc",
     "locked": false,
     "schema_version": 3,
     "solution": true,
     "task": false
    }
   },
   "outputs": [],
   "source": [
    "# Replace None with appropriate code\n",
    "rolling_avg_ts = None\n",
    "# YOUR CODE HERE\n",
    "raise NotImplementedError()\n",
    "rolling_avg_ts"
   ]
  },
  {
   "cell_type": "code",
   "execution_count": null,
   "id": "71eaa74d",
   "metadata": {
    "deletable": false,
    "editable": false,
    "nbgrader": {
     "cell_type": "code",
     "checksum": "0dc28df2ec8b000e02c08c4eab4a3c15",
     "grade": true,
     "grade_id": "cell-9ea5fb2be775c44b",
     "locked": true,
     "points": 1,
     "schema_version": 3,
     "solution": false,
     "task": false
    }
   },
   "outputs": [],
   "source": [
    "# rolling_avg_ts should be a Series\n",
    "assert type(rolling_avg_ts) == pd.Series\n",
    "\n",
    "# rolling_avg_ts should have the same number of records as daily_ts\n",
    "assert len(rolling_avg_ts) == len(daily_ts)\n",
    "\n",
    "# PUT ALL WORK FOR THE ABOVE QUESTION ABOVE THIS CELL\n",
    "# THIS UNALTERABLE CELL CONTAINS HIDDEN TESTS"
   ]
  },
  {
   "cell_type": "markdown",
   "id": "0bcbf59b",
   "metadata": {
    "deletable": false,
    "editable": false,
    "nbgrader": {
     "cell_type": "markdown",
     "checksum": "5ce973c76db0c96feeb5711da3cf9bef",
     "grade": false,
     "grade_id": "cell-0f0a3d032258625a",
     "locked": true,
     "schema_version": 3,
     "solution": false,
     "task": false
    }
   },
   "source": [
    "In the cell below, we plot the raw daily data, the 7-day moving average, and the difference between the raw daily data and the moving average."
   ]
  },
  {
   "cell_type": "code",
   "execution_count": null,
   "id": "27564712",
   "metadata": {
    "deletable": false,
    "editable": false,
    "nbgrader": {
     "cell_type": "code",
     "checksum": "190f0bcb9edea4af71d350f4efc3799e",
     "grade": false,
     "grade_id": "cell-e30a62ff5dfbc684",
     "locked": true,
     "schema_version": 3,
     "solution": false,
     "task": false
    }
   },
   "outputs": [],
   "source": [
    "# Run this cell without changes\n",
    "\n",
    "import matplotlib.pyplot as plt\n",
    "from matplotlib.dates import AutoDateLocator, ConciseDateFormatter\n",
    "import numpy as np\n",
    "\n",
    "differenced_ts = daily_ts - rolling_avg_ts\n",
    "differenced_ts.dropna(inplace=True)\n",
    "differenced_transformed_ts = np.sqrt(daily_ts) - np.sqrt(rolling_avg_ts)\n",
    "differenced_transformed_ts.dropna(inplace=True)\n",
    "\n",
    "fig, axes = plt.subplots(ncols=3, figsize=(16,4))\n",
    "\n",
    "axes[0].plot(daily_ts, color=\"gray\", label=\"Daily energy use\", )\n",
    "axes[0].plot(rolling_avg_ts, color=\"blue\", label=\"7-day moving average\")\n",
    "axes[1].plot(differenced_ts, color=\"green\", label=\"Differenced\")\n",
    "axes[2].plot(differenced_transformed_ts, label=\"Differenced and transformed\")\n",
    "\n",
    "locator = AutoDateLocator()\n",
    "formatter = ConciseDateFormatter(locator)\n",
    "\n",
    "for ax in axes:\n",
    "    ax.xaxis.set_major_locator(locator)\n",
    "    ax.xaxis.set_major_formatter(formatter)\n",
    "    ax.legend()"
   ]
  },
  {
   "cell_type": "markdown",
   "id": "62ecd84f",
   "metadata": {
    "deletable": false,
    "editable": false,
    "nbgrader": {
     "cell_type": "markdown",
     "checksum": "6f0aefd207d4133d15b4e7aa3b7ceb13",
     "grade": false,
     "grade_id": "cell-87ddebe457119f57",
     "locked": true,
     "schema_version": 3,
     "solution": false,
     "task": false
    }
   },
   "source": [
    "## 5. Choose a Dataset and Build an AR(I)MA Model\n",
    "\n",
    "Based on the plots above, choose the most-stationary time series data out of:\n",
    "\n",
    "* `daily_ts`\n",
    "* `differenced_ts`\n",
    "* `differenced_transformed_ts`\n",
    "\n",
    "And plug it into an AR(I)MA model ([documentation here](https://www.statsmodels.org/dev/generated/statsmodels.tsa.arima.model.ARIMA.html))\n",
    "\n",
    "You can use any order `(p, d, q)` that you want, so long as it doesn't produce a warning message."
   ]
  },
  {
   "cell_type": "code",
   "execution_count": null,
   "id": "87a9c57b",
   "metadata": {
    "deletable": false,
    "nbgrader": {
     "cell_type": "code",
     "checksum": "d157074561325b934c8b45cf4b86e21d",
     "grade": false,
     "grade_id": "cell-5c1083654356a9b2",
     "locked": false,
     "schema_version": 3,
     "solution": true,
     "task": false
    }
   },
   "outputs": [],
   "source": [
    "# Replace None with appropriate code\n",
    "from statsmodels.tsa.arima.model import ARIMA\n",
    "\n",
    "model = None\n",
    "# YOUR CODE HERE\n",
    "raise NotImplementedError()\n",
    "\n",
    "res = model.fit()\n",
    "res.summary()"
   ]
  },
  {
   "cell_type": "code",
   "execution_count": null,
   "id": "fe0a71f8",
   "metadata": {
    "deletable": false,
    "editable": false,
    "nbgrader": {
     "cell_type": "code",
     "checksum": "da62615e46183e97f372dad42294cfb9",
     "grade": true,
     "grade_id": "cell-848494f70e9f7a0c",
     "locked": true,
     "points": 1,
     "schema_version": 3,
     "solution": false,
     "task": false
    }
   },
   "outputs": [],
   "source": [
    "# model should be an ARIMA model\n",
    "assert type(model) == ARIMA\n",
    "\n",
    "# PUT ALL WORK FOR THE ABOVE QUESTION ABOVE THIS CELL\n",
    "# THIS UNALTERABLE CELL CONTAINS HIDDEN TESTS"
   ]
  }
 ],
 "metadata": {
  "kernelspec": {
   "display_name": "Python 3 (ipykernel)",
   "language": "python",
   "name": "python3"
  },
  "language_info": {
   "codemirror_mode": {
    "name": "ipython",
    "version": 3
   },
   "file_extension": ".py",
   "mimetype": "text/x-python",
   "name": "python",
   "nbconvert_exporter": "python",
   "pygments_lexer": "ipython3",
   "version": "3.10.13"
  }
 },
 "nbformat": 4,
 "nbformat_minor": 5
}
